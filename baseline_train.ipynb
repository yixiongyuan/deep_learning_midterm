{
 "cells": [
  {
   "cell_type": "code",
   "execution_count": 1,
   "id": "a57d9a13-a717-43ca-89d9-ccd52d5eaffb",
   "metadata": {},
   "outputs": [],
   "source": [
    "# this file is for  base line model training"
   ]
  },
  {
   "cell_type": "code",
   "execution_count": 2,
   "id": "eaf6162a-4582-4df1-b4fb-3100d2a2bb6b",
   "metadata": {},
   "outputs": [],
   "source": [
    "#import useful package\n",
    "from __future__ import print_function\n",
    "import os\n",
    "import argparse\n",
    "import shutil\n",
    "\n",
    "import numpy as np\n",
    "\n",
    "import torch\n",
    "import torch.nn as nn\n",
    "import torch.nn.functional as F\n",
    "import torch.optim as optim\n",
    "\n",
    "\n",
    "import torchvision\n",
    "from torchvision import datasets, transforms\n",
    "\n",
    "import models\n",
    "from torchinfo import summary\n",
    "from collections import OrderedDict\n",
    "from matplotlib import pyplot as plt"
   ]
  },
  {
   "cell_type": "code",
   "execution_count": 3,
   "id": "1f40f2fb-68b6-43a9-8da4-a7dc276ecb29",
   "metadata": {},
   "outputs": [
    {
     "name": "stdout",
     "output_type": "stream",
     "text": [
      "cuda\n"
     ]
    }
   ],
   "source": [
    "# set up device \n",
    "device = 'cuda' if torch.cuda.is_available() else 'cpu'\n",
    "print(device)\n",
    "best_acc = 0  # best test accuracy\n",
    "start_epoch = 0  # start from epoch 0 or last checkpoint epoch"
   ]
  },
  {
   "cell_type": "code",
   "execution_count": 4,
   "id": "9d6871a1-26c5-4014-ab32-a178b28575d9",
   "metadata": {},
   "outputs": [
    {
     "name": "stdout",
     "output_type": "stream",
     "text": [
      "==> Preparing data..\n",
      "Files already downloaded and verified\n",
      "Files already downloaded and verified\n"
     ]
    }
   ],
   "source": [
    "# downlaoding data\n",
    "print('==> Preparing data..')\n",
    "transform_train = transforms.Compose([\n",
    "    transforms.RandomCrop(32, padding=4),\n",
    "    transforms.RandomHorizontalFlip(),\n",
    "    transforms.ToTensor(),\n",
    "    transforms.Normalize((0.4914, 0.4822, 0.4465), (0.2023, 0.1994, 0.2010)),\n",
    "])\n",
    "\n",
    "transform_test = transforms.Compose([\n",
    "    transforms.ToTensor(),\n",
    "    transforms.Normalize((0.4914, 0.4822, 0.4465), (0.2023, 0.1994, 0.2010)),\n",
    "])\n",
    "\n",
    "trainset = torchvision.datasets.CIFAR10(\n",
    "    root='./data', train=True, download=True, transform=transform_train)\n",
    "train_loader = torch.utils.data.DataLoader(\n",
    "    trainset, batch_size=128, shuffle=True, num_workers=2)\n",
    "\n",
    "testset = torchvision.datasets.CIFAR10(\n",
    "    root='./data', train=False, download=True, transform=transform_test)\n",
    "test_loader = torch.utils.data.DataLoader(\n",
    "    testset, batch_size=100, shuffle=False, num_workers=2)\n",
    "\n",
    "classes = ('plane', 'car', 'bird', 'cat', 'deer',\n",
    "           'dog', 'frog', 'horse', 'ship', 'truck')\n"
   ]
  },
  {
   "cell_type": "code",
   "execution_count": 5,
   "id": "b14c7de1-06f8-432c-a277-d0ad43d7b69d",
   "metadata": {},
   "outputs": [
    {
     "name": "stdout",
     "output_type": "stream",
     "text": [
      "==> Building model..\n",
      "11105866\n"
     ]
    },
    {
     "data": {
      "text/plain": [
       "==========================================================================================\n",
       "Layer (type:depth-idx)                   Output Shape              Param #\n",
       "==========================================================================================\n",
       "resnet                                   [1, 10]                   --\n",
       "├─Conv2d: 1-1                            [1, 64, 32, 32]           1,728\n",
       "├─Sequential: 1-2                        [1, 64, 32, 32]           --\n",
       "│    └─FusionBlock: 2-1                  [1, 64, 32, 32]           --\n",
       "│    │    └─Sequential: 3-1              [1, 64, 32, 32]           4,928\n",
       "│    │    └─BatchNorm2d: 3-2             [1, 64, 32, 32]           128\n",
       "│    │    └─ReLU: 3-3                    [1, 64, 32, 32]           --\n",
       "│    │    └─Sequential: 3-4              [1, 64, 32, 32]           4,928\n",
       "│    │    └─BatchNorm2d: 3-5             [1, 64, 32, 32]           128\n",
       "│    │    └─ReLU: 3-6                    [1, 64, 32, 32]           --\n",
       "│    └─FusionBlock: 2-2                  [1, 64, 32, 32]           --\n",
       "│    │    └─Sequential: 3-7              [1, 64, 32, 32]           4,928\n",
       "│    │    └─BatchNorm2d: 3-8             [1, 64, 32, 32]           128\n",
       "│    │    └─ReLU: 3-9                    [1, 64, 32, 32]           --\n",
       "│    │    └─Sequential: 3-10             [1, 64, 32, 32]           4,928\n",
       "│    │    └─BatchNorm2d: 3-11            [1, 64, 32, 32]           128\n",
       "│    │    └─Sequential: 3-12             [1, 64, 32, 32]           102,528\n",
       "│    │    └─ReLU: 3-13                   [1, 64, 32, 32]           --\n",
       "├─Sequential: 1-3                        [1, 128, 16, 16]          --\n",
       "│    └─FusionBlock: 2-3                  [1, 128, 16, 16]          --\n",
       "│    │    └─Sequential: 3-14             [1, 128, 16, 16]          9,216\n",
       "│    │    └─BatchNorm2d: 3-15            [1, 128, 16, 16]          256\n",
       "│    │    └─ReLU: 3-16                   [1, 128, 16, 16]          --\n",
       "│    │    └─Sequential: 3-17             [1, 128, 16, 16]          18,048\n",
       "│    │    └─BatchNorm2d: 3-18            [1, 128, 16, 16]          256\n",
       "│    │    └─Sequential: 3-19             [1, 128, 16, 16]          8,192\n",
       "│    │    └─ReLU: 3-20                   [1, 128, 16, 16]          --\n",
       "│    └─FusionBlock: 2-4                  [1, 128, 16, 16]          --\n",
       "│    │    └─Sequential: 3-21             [1, 128, 16, 16]          18,048\n",
       "│    │    └─BatchNorm2d: 3-22            [1, 128, 16, 16]          256\n",
       "│    │    └─ReLU: 3-23                   [1, 128, 16, 16]          --\n",
       "│    │    └─Sequential: 3-24             [1, 128, 16, 16]          18,048\n",
       "│    │    └─BatchNorm2d: 3-25            [1, 128, 16, 16]          256\n",
       "│    │    └─Sequential: 3-26             [1, 128, 16, 16]          409,856\n",
       "│    │    └─ReLU: 3-27                   [1, 128, 16, 16]          --\n",
       "├─Sequential: 1-4                        [1, 256, 8, 8]            --\n",
       "│    └─BasicBlock: 2-5                   [1, 256, 8, 8]            --\n",
       "│    │    └─BatchNorm2d: 3-28            [1, 128, 16, 16]          256\n",
       "│    │    └─channel_selection: 3-29      [1, 128, 16, 16]          128\n",
       "│    │    └─ReLU: 3-30                   [1, 128, 16, 16]          --\n",
       "│    │    └─Conv2d: 3-31                 [1, 256, 8, 8]            294,912\n",
       "│    │    └─BatchNorm2d: 3-32            [1, 256, 8, 8]            512\n",
       "│    │    └─ReLU: 3-33                   [1, 256, 8, 8]            --\n",
       "│    │    └─Conv2d: 3-34                 [1, 256, 8, 8]            589,824\n",
       "│    │    └─Sequential: 3-35             [1, 256, 8, 8]            32,768\n",
       "│    └─BasicBlock: 2-6                   [1, 256, 8, 8]            --\n",
       "│    │    └─BatchNorm2d: 3-36            [1, 256, 8, 8]            512\n",
       "│    │    └─channel_selection: 3-37      [1, 256, 8, 8]            256\n",
       "│    │    └─ReLU: 3-38                   [1, 256, 8, 8]            --\n",
       "│    │    └─Conv2d: 3-39                 [1, 256, 8, 8]            589,824\n",
       "│    │    └─BatchNorm2d: 3-40            [1, 256, 8, 8]            512\n",
       "│    │    └─ReLU: 3-41                   [1, 256, 8, 8]            --\n",
       "│    │    └─Conv2d: 3-42                 [1, 256, 8, 8]            589,824\n",
       "├─Sequential: 1-5                        [1, 512, 4, 4]            --\n",
       "│    └─BasicBlock: 2-7                   [1, 512, 4, 4]            --\n",
       "│    │    └─BatchNorm2d: 3-43            [1, 256, 8, 8]            512\n",
       "│    │    └─channel_selection: 3-44      [1, 256, 8, 8]            256\n",
       "│    │    └─ReLU: 3-45                   [1, 256, 8, 8]            --\n",
       "│    │    └─Conv2d: 3-46                 [1, 512, 4, 4]            1,179,648\n",
       "│    │    └─BatchNorm2d: 3-47            [1, 512, 4, 4]            1,024\n",
       "│    │    └─ReLU: 3-48                   [1, 512, 4, 4]            --\n",
       "│    │    └─Conv2d: 3-49                 [1, 512, 4, 4]            2,359,296\n",
       "│    │    └─Sequential: 3-50             [1, 512, 4, 4]            131,072\n",
       "│    └─BasicBlock: 2-8                   [1, 512, 4, 4]            --\n",
       "│    │    └─BatchNorm2d: 3-51            [1, 512, 4, 4]            1,024\n",
       "│    │    └─channel_selection: 3-52      [1, 512, 4, 4]            512\n",
       "│    │    └─ReLU: 3-53                   [1, 512, 4, 4]            --\n",
       "│    │    └─Conv2d: 3-54                 [1, 512, 4, 4]            2,359,296\n",
       "│    │    └─BatchNorm2d: 3-55            [1, 512, 4, 4]            1,024\n",
       "│    │    └─ReLU: 3-56                   [1, 512, 4, 4]            --\n",
       "│    │    └─Conv2d: 3-57                 [1, 512, 4, 4]            2,359,296\n",
       "├─BatchNorm2d: 1-6                       [1, 512, 4, 4]            1,024\n",
       "├─channel_selection: 1-7                 [1, 512, 4, 4]            512\n",
       "├─ReLU: 1-8                              [1, 512, 4, 4]            --\n",
       "├─AvgPool2d: 1-9                         [1, 512, 1, 1]            --\n",
       "├─Linear: 1-10                           [1, 10]                   5,130\n",
       "==========================================================================================\n",
       "Total params: 11,105,866\n",
       "Trainable params: 11,105,866\n",
       "Non-trainable params: 0\n",
       "Total mult-adds (M): 517.65\n",
       "==========================================================================================\n",
       "Input size (MB): 0.01\n",
       "Forward/backward pass size (MB): 17.50\n",
       "Params size (MB): 44.42\n",
       "Estimated Total Size (MB): 61.93\n",
       "=========================================================================================="
      ]
     },
     "execution_count": 5,
     "metadata": {},
     "output_type": "execute_result"
    }
   ],
   "source": [
    "# load baseline mode\n",
    "print('==> Building model..')\n",
    "\n",
    "model = models.resnet()\n",
    "params = sum(p.numel() for p in model.parameters())\n",
    "print(params)\n",
    "# print the overall architecture\n",
    "summary(model, input_size=(1,3, 32, 32))"
   ]
  },
  {
   "cell_type": "code",
   "execution_count": 6,
   "id": "8ee0d45a-219e-4e68-8256-1df8d78dfb79",
   "metadata": {},
   "outputs": [],
   "source": [
    "# loss function and optimizer\n",
    "criterion = nn.CrossEntropyLoss()\n",
    "optimizer = optim.SGD(model.parameters(), lr=0.1,momentum=0.9, weight_decay=5e-4)"
   ]
  },
  {
   "cell_type": "code",
   "execution_count": 7,
   "id": "20669bc5-a259-406c-9423-ac4552e8d592",
   "metadata": {},
   "outputs": [],
   "source": [
    "# additional subgradient descent on the sparsity-induced penalty term\n",
    "\n",
    "# trade-off factors \n",
    "s  = 0.00001\n",
    "\n",
    "# add new item on grad computation\n",
    "def updateBN():\n",
    "    for name,m in model.named_modules():\n",
    "        if isinstance(m, nn.BatchNorm2d) and 'fusion' not in name:\n",
    "            m.weight.grad.data.add_(s*torch.sign(m.weight.data))  # L1 regularization\n",
    "\n",
    "#training function\n",
    "def train(epoch,train_loss_list,train_acc_list):\n",
    "    model.train()\n",
    "    correct = 0\n",
    "    train_loss = 0\n",
    "    for batch_idx, (data, target) in enumerate(train_loader):\n",
    "        \n",
    "        data, target = data.to(device), target.to(device)\n",
    "        \n",
    "        optimizer.zero_grad()\n",
    "        output = model(data)\n",
    "        loss = criterion(output, target)\n",
    "        train_loss +=loss.item()\n",
    "        \n",
    "        pred = output.data.max(1, keepdim=True)[1]\n",
    "        correct += pred.eq(target.data.view_as(pred)).cpu().sum()\n",
    "        \n",
    "        loss.backward()\n",
    "        \n",
    "        # calculate the gradient for BN scaling factors\n",
    "        updateBN()\n",
    "        \n",
    "        optimizer.step()\n",
    "        \n",
    "        if batch_idx % 100 == 0:\n",
    "            print('Train Epoch: {} [{}/{} ({:.1f}%)]\\tLoss: {:.6f}'.format(\n",
    "                epoch, batch_idx * len(data), len(train_loader.dataset),\n",
    "                100. * batch_idx / len(train_loader), loss.item()/len(data)))\n",
    "                  \n",
    "    train_loss /= len(train_loader.dataset)\n",
    "    train_loss_list.append(train_loss)\n",
    "    train_acc = correct / len(train_loader.dataset)\n",
    "    train_acc_list.append(train_acc)\n",
    "    \n",
    "    print('\\nTraining Set: Average loss: {:.4f},Accuracy: {}/{} ({:.1f}%)\\n'.format(\n",
    "            train_loss, correct, len(train_loader.dataset),100.*train_acc))\n",
    "\n",
    "# test function\n",
    "def test(test_loss_list,test_acc_list):\n",
    "    model.eval()\n",
    "    test_loss = 0\n",
    "    correct = 0\n",
    "    with torch.no_grad():\n",
    "        for data, target in test_loader:\n",
    "\n",
    "            data, target = data.to(device), target.to(device)\n",
    "            output = model(data)\n",
    "\n",
    "            loss = criterion(output, target)\n",
    "            test_loss += loss.item() # sum up batch loss\n",
    "\n",
    "            pred = output.data.max(1, keepdim=True)[1] # get the index of the max log-probability\n",
    "            correct += pred.eq(target.data.view_as(pred)).cpu().sum()\n",
    "\n",
    "        test_loss /= len(test_loader.dataset)\n",
    "        test_loss_list.append(test_loss)\n",
    "        test_acc = correct / float(len(test_loader.dataset))\n",
    "        test_acc_list.append(test_acc)\n",
    "        \n",
    "        print('\\nTest set: Average loss: {:.4f}, Accuracy: {}/{} ({:.1f}%)\\n'.format(\n",
    "            test_loss, correct, len(test_loader.dataset), 100. * test_acc))\n",
    "        \n",
    "        return test_acc\n",
    "\n",
    "def save_checkpoint(state, is_best, filepath):\n",
    "    torch.save(state, os.path.join(filepath, 'baseline.pth.tar'))\n",
    "    if is_best:\n",
    "        print('\\n!!!!!!!!!!!!!!!!! NEW BEST ACC !!!!!!!!!!!!! \\n')\n",
    "        shutil.copyfile(os.path.join(filepath, 'baseline.pth.tar'), os.path.join(filepath, 'baseline_model_best.pth.tar'))\n",
    "\n"
   ]
  },
  {
   "cell_type": "code",
   "execution_count": 11,
   "id": "20b60c77-6418-4e46-bfef-8573bf93a550",
   "metadata": {},
   "outputs": [
    {
     "data": {
      "image/png": "[encoded data removed]",
      "text/plain": [
       "<Figure size 640x480 with 1 Axes>"
      ]
     },
     "metadata": {},
     "output_type": "display_data"
    }
   ],
   "source": [
    "plt.figure()\n",
    "ax=plt.axes()\n",
    "plt.xlabel('Round')    # x轴标签\n",
    "plt.ylabel('Loss')     # y轴标签\n",
    "\n",
    "plt.plot(range(len(train_loss)), train_loss, label=\"train loss\")\n",
    "plt.plot(range(len(test_loss)), test_loss, label=\"test loss\")\n",
    "plt.legend(loc='upper right')\n",
    "plt.title(\"loss_curve\")\n",
    "plt.savefig(\"./checkpoint/baseline/baseline_loss_curve.png\")"
   ]
  },
  {
   "cell_type": "code",
   "execution_count": 13,
   "id": "7e30bb38-f077-42d7-9727-fb9ecbfdbcaa",
   "metadata": {},
   "outputs": [
    {
     "data": {
      "image/png": "[encoded data removed]",
      "text/plain": [
       "<Figure size 640x480 with 1 Axes>"
      ]
     },
     "metadata": {},
     "output_type": "display_data"
    }
   ],
   "source": [
    "plt.figure()\n",
    "ax=plt.axes()\n",
    "plt.xlabel('Round')    # x轴标签\n",
    "plt.ylabel('Accuracy')     # y轴标签\n",
    "\n",
    "plt.plot(range(len(test_acc)), test_acc, label=\"train acc\")\n",
    "plt.legend(loc='upper right')\n",
    "plt.title(\"acc_curve\")\n",
    "plt.savefig(\"./checkpoint/baseline/baseline_acc_curve.png\")"
   ]
  },
  {
   "cell_type": "code",
   "execution_count": 8,
   "id": "0282b02d-038a-4ab3-80f6-031385b17ec9",
   "metadata": {},
   "outputs": [
    {
     "name": "stdout",
     "output_type": "stream",
     "text": [
      "Train Epoch: 0 [0/50000 (0.0%)]\tLoss: 0.000021\n"
     ]
    },
    {
     "ename": "KeyboardInterrupt",
     "evalue": "",
     "output_type": "error",
     "traceback": [
      "\u001b[0;31m---------------------------------------------------------------------------\u001b[0m",
      "\u001b[0;31mKeyboardInterrupt\u001b[0m                         Traceback (most recent call last)",
      "\u001b[0;32m/tmp/ipykernel_313/934385147.py\u001b[0m in \u001b[0;36m<cell line: 14>\u001b[0;34m()\u001b[0m\n\u001b[1;32m     19\u001b[0m     \u001b[0mstart_time\u001b[0m \u001b[0;34m=\u001b[0m \u001b[0mtime\u001b[0m\u001b[0;34m.\u001b[0m\u001b[0mtime\u001b[0m\u001b[0;34m(\u001b[0m\u001b[0;34m)\u001b[0m\u001b[0;34m\u001b[0m\u001b[0;34m\u001b[0m\u001b[0m\n\u001b[1;32m     20\u001b[0m \u001b[0;34m\u001b[0m\u001b[0m\n\u001b[0;32m---> 21\u001b[0;31m     \u001b[0mtrain\u001b[0m\u001b[0;34m(\u001b[0m\u001b[0mepoch\u001b[0m\u001b[0;34m,\u001b[0m\u001b[0mtrain_loss\u001b[0m\u001b[0;34m,\u001b[0m\u001b[0mtrain_acc\u001b[0m\u001b[0;34m)\u001b[0m\u001b[0;34m\u001b[0m\u001b[0;34m\u001b[0m\u001b[0m\n\u001b[0m\u001b[1;32m     22\u001b[0m     \u001b[0mprec1\u001b[0m \u001b[0;34m=\u001b[0m \u001b[0mtest\u001b[0m\u001b[0;34m(\u001b[0m\u001b[0mtest_loss\u001b[0m\u001b[0;34m,\u001b[0m\u001b[0mtest_acc\u001b[0m\u001b[0;34m)\u001b[0m\u001b[0;34m\u001b[0m\u001b[0;34m\u001b[0m\u001b[0m\n\u001b[1;32m     23\u001b[0m \u001b[0;34m\u001b[0m\u001b[0m\n",
      "\u001b[0;32m/tmp/ipykernel_313/3479975562.py\u001b[0m in \u001b[0;36mtrain\u001b[0;34m(epoch, train_loss_list, train_acc_list)\u001b[0m\n\u001b[1;32m     17\u001b[0m     \u001b[0;32mfor\u001b[0m \u001b[0mbatch_idx\u001b[0m\u001b[0;34m,\u001b[0m \u001b[0;34m(\u001b[0m\u001b[0mdata\u001b[0m\u001b[0;34m,\u001b[0m \u001b[0mtarget\u001b[0m\u001b[0;34m)\u001b[0m \u001b[0;32min\u001b[0m \u001b[0menumerate\u001b[0m\u001b[0;34m(\u001b[0m\u001b[0mtrain_loader\u001b[0m\u001b[0;34m)\u001b[0m\u001b[0;34m:\u001b[0m\u001b[0;34m\u001b[0m\u001b[0;34m\u001b[0m\u001b[0m\n\u001b[1;32m     18\u001b[0m \u001b[0;34m\u001b[0m\u001b[0m\n\u001b[0;32m---> 19\u001b[0;31m         \u001b[0mdata\u001b[0m\u001b[0;34m,\u001b[0m \u001b[0mtarget\u001b[0m \u001b[0;34m=\u001b[0m \u001b[0mdata\u001b[0m\u001b[0;34m.\u001b[0m\u001b[0mto\u001b[0m\u001b[0;34m(\u001b[0m\u001b[0mdevice\u001b[0m\u001b[0;34m)\u001b[0m\u001b[0;34m,\u001b[0m \u001b[0mtarget\u001b[0m\u001b[0;34m.\u001b[0m\u001b[0mto\u001b[0m\u001b[0;34m(\u001b[0m\u001b[0mdevice\u001b[0m\u001b[0;34m)\u001b[0m\u001b[0;34m\u001b[0m\u001b[0;34m\u001b[0m\u001b[0m\n\u001b[0m\u001b[1;32m     20\u001b[0m \u001b[0;34m\u001b[0m\u001b[0m\n\u001b[1;32m     21\u001b[0m         \u001b[0moptimizer\u001b[0m\u001b[0;34m.\u001b[0m\u001b[0mzero_grad\u001b[0m\u001b[0;34m(\u001b[0m\u001b[0;34m)\u001b[0m\u001b[0;34m\u001b[0m\u001b[0;34m\u001b[0m\u001b[0m\n",
      "\u001b[0;31mKeyboardInterrupt\u001b[0m: "
     ]
    }
   ],
   "source": [
    "best_prec1 = 0.\n",
    "\n",
    "import time\n",
    "\n",
    "if not os.path.isdir('checkpoint'):\n",
    "    os.mkdir('checkpoint')\n",
    "\n",
    "train_loss = []\n",
    "train_acc = []\n",
    "test_loss = []\n",
    "test_acc = []\n",
    "\n",
    "# training \n",
    "for epoch in range(0, 150):\n",
    "    if epoch in [30, 60]:\n",
    "        for param_group in optimizer.param_groups:\n",
    "            param_group['lr'] *= 0.1\n",
    "        \n",
    "    start_time = time.time()\n",
    "    \n",
    "    train(epoch,train_loss,train_acc)\n",
    "    prec1 = test(test_loss,test_acc)\n",
    "    \n",
    "    end_time = time.time()\n",
    "    \n",
    "    interval = end_time - start_time\n",
    "    print('One epoch time cost: {:.3f} s \\n'.format(interval))\n",
    "   \n",
    "    \n",
    "    is_best = prec1 > best_prec1\n",
    "    best_prec1 = max(prec1, best_prec1)\n",
    "    \n",
    "    save_checkpoint({\n",
    "        'epoch': epoch + 1,\n",
    "        'state_dict': model.state_dict(),\n",
    "        'best_prec1': best_prec1,\n",
    "        'optimizer': optimizer.state_dict(),\n",
    "    }, is_best, filepath='./checkpoint/baseline')\n",
    "    \n",
    "    print('----------------------------------------------- \\n')\n",
    "\n",
    "    \n",
    "print(\"Best accuracy: \"+str(best_prec1))\n",
    "\n",
    "# write loss data to txt file\n",
    "savepath = os.path.join('./checkpoint/baseline', \"baseline_train_loss.txt\")\n",
    "with open(savepath, \"w\") as fp:\n",
    "    for data in train_loss:\n",
    "        fp.write(str(data)+\"\\n\")\n",
    "    \n",
    "savepath = os.path.join('./checkpoint/baseline', \"baseline_train_acc.txt\")\n",
    "with open(savepath, \"w\") as fp:\n",
    "       for data in train_acc:\n",
    "        fp.write(str(data)+\"\\n\")\n",
    "    \n",
    "savepath = os.path.join('./checkpoint/baseline', \"baseline_test_loss.txt\")\n",
    "with open(savepath, \"w\") as fp:\n",
    "    for data in test_loss:\n",
    "        fp.write(str(data)+\"\\n\")\n",
    "    \n",
    "savepath = os.path.join('./checkpoint/baseline', \"baseline_test_acc.txt\")\n",
    "with open(savepath, \"w\") as fp:\n",
    "    for data in test_acc:\n",
    "        fp.write(str(data)+\"\\n\")"
   ]
  },
  {
   "cell_type": "code",
   "execution_count": null,
   "id": "ac0a0719-1ad9-49d6-8d86-d8be4a3ba669",
   "metadata": {},
   "outputs": [],
   "source": []
  }
 ],
 "metadata": {
  "kernelspec": {
   "display_name": "default:Python",
   "language": "python",
   "name": "conda-env-default-py"
  },
  "language_info": {
   "codemirror_mode": {
    "name": "ipython",
    "version": 3
   },
   "file_extension": ".py",
   "mimetype": "text/x-python",
   "name": "python",
   "nbconvert_exporter": "python",
   "pygments_lexer": "ipython3",
   "version": "3.9.15"
  }
 },
 "nbformat": 4,
 "nbformat_minor": 5
}
